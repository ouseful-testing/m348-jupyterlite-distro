{
 "cells": [
  {
   "cell_type": "markdown",
   "id": "2e71808e",
   "metadata": {},
   "source": [
    "# R Setup Test\n",
    "\n",
    "This notebook contains a number of tests to ensure that all required libraries are available and work correctly."
   ]
  },
  {
   "cell_type": "markdown",
   "id": "723f42a4",
   "metadata": {},
   "source": [
    "First to do basic calculations in R"
   ]
  },
  {
   "cell_type": "code",
   "execution_count": 1,
   "id": "243b5270",
   "metadata": {
    "vscode": {
     "languageId": "r"
    }
   },
   "outputs": [],
   "source": [
    "x <- c(1,3,5,2,6,7)\n",
    "y <- c(2,6,8,3,7,8)"
   ]
  },
  {
   "cell_type": "code",
   "execution_count": null,
   "id": "b205f455",
   "metadata": {
    "vscode": {
     "languageId": "r"
    }
   },
   "outputs": [],
   "source": [
    "mean(x)\n",
    "mean(y)\n",
    "\n",
    "fit <- lm(y~x)\n",
    "summary(fit)"
   ]
  },
  {
   "cell_type": "markdown",
   "id": "dafa51d2",
   "metadata": {},
   "source": [
    "Now load the required libraries. "
   ]
  },
  {
   "cell_type": "code",
   "execution_count": 3,
   "id": "10481b5d",
   "metadata": {
    "vscode": {
     "languageId": "r"
    }
   },
   "outputs": [],
   "source": [
    "library(M348)\n",
    "#library(tseries)\n",
    "library(nlme)\n",
    "library(urca)\n",
    "library(plm)"
   ]
  },
  {
   "cell_type": "markdown",
   "id": "af93c955",
   "metadata": {},
   "source": [
    "First check use load one of the datasets in M348 and get the first few lines of it displayed."
   ]
  },
  {
   "cell_type": "code",
   "execution_count": null,
   "id": "cfbf9933",
   "metadata": {
    "vscode": {
     "languageId": "r"
    }
   },
   "outputs": [],
   "source": [
    "# Load the psid data frame\n",
    "data(psid)\n",
    "# Remove variables that are not needed\n",
    "psid$weeks <- NULL\n",
    "psid$industry <- NULL\n",
    "psid$south <- NULL\n",
    "psid$smsa <- NULL\n",
    "psid$maritalStatus <- NULL\n",
    "psid$union <- NULL\n",
    "psid$experienceSquare <- NULL\n",
    "# Rename variables\n",
    "names(psid) <- c('exper', 'occupation', 'gender', 'educ', 'ethnicity','wageLog', 'period', 'id')\n",
    "# Check the data frame is now OK\n",
    "head(psid)\n",
    "# Make the vectors in the psid data frame directly accessible to R\n",
    "attach(psid)"
   ]
  },
  {
   "cell_type": "markdown",
   "id": "3c29bf44",
   "metadata": {},
   "source": [
    "Just to check that we can obtain plots"
   ]
  },
  {
   "cell_type": "code",
   "execution_count": null,
   "id": "cf80e953",
   "metadata": {
    "vscode": {
     "languageId": "r"
    }
   },
   "outputs": [],
   "source": [
    "plot(exper, wageLog, pch=16, col=\"red\")"
   ]
  },
  {
   "cell_type": "markdown",
   "id": "6242e906",
   "metadata": {},
   "source": [
    "Now to use one of the functions in M348. (Should produce a plot.)"
   ]
  },
  {
   "cell_type": "code",
   "execution_count": null,
   "id": "9a1f41dc",
   "metadata": {
    "vscode": {
     "languageId": "r"
    }
   },
   "outputs": [],
   "source": [
    "fit <- glm(y~x,family = \"poisson\")\n",
    "glmResidPlot(fit,1)"
   ]
  },
  {
   "cell_type": "markdown",
   "id": "6ece4430",
   "metadata": {},
   "source": [
    "Now to do something that relies on the package nlme. Should result in some regression-like results being displayed."
   ]
  },
  {
   "cell_type": "code",
   "execution_count": null,
   "id": "1c1e0818",
   "metadata": {
    "vscode": {
     "languageId": "r"
    }
   },
   "outputs": [],
   "source": [
    "experSq <- exper^2\n",
    "\n",
    "psidREFit <- lme(wageLog~exper+experSq, random= ~1|id)\n",
    "summary(psidREFit)\n",
    " "
   ]
  },
  {
   "cell_type": "markdown",
   "id": "aa915377",
   "metadata": {},
   "source": [
    "Now to do something that relies on the package urca. Should result in some results from a hypothesis test"
   ]
  },
  {
   "cell_type": "code",
   "execution_count": null,
   "id": "4b246fd6",
   "metadata": {
    "vscode": {
     "languageId": "r"
    }
   },
   "outputs": [],
   "source": [
    "# Load the ppp data frame\n",
    "data(ppp)\n",
    "# Make the vectors in the ppp data frame directly accessible to R\n",
    "attach(ppp)\n",
    "\n",
    "# Create usp and jpp\n",
    "usp <- log(usPrices)\n",
    "jpp <- log(exchangeRate) + log(japanPrices)\n",
    "\n",
    "# Convert usp and jpp to being time series.\n",
    "uspTS <- ts(usp,  start = c(1973, 1), frequency = 4)\n",
    "jppTS <- ts(jpp,  start = c(1973, 1), frequency = 4)\n",
    "\n",
    "\n",
    "# Provide a summary of the results from the ADF test\n",
    "summary(ur.df(jppTS, type = \"drift\",  selectlags = \"AIC\"))"
   ]
  },
  {
   "cell_type": "markdown",
   "id": "f54e3846",
   "metadata": {},
   "source": [
    "Finally to try something that relies on the package plm. "
   ]
  },
  {
   "cell_type": "code",
   "execution_count": null,
   "id": "dfb74ace",
   "metadata": {
    "vscode": {
     "languageId": "r"
    }
   },
   "outputs": [],
   "source": [
    "psid_panel <- pdata.frame(psid,index=c('id','period'))\n",
    "head(psid_panel)"
   ]
  },
  {
   "cell_type": "code",
   "execution_count": null,
   "id": "fdd658eb",
   "metadata": {},
   "outputs": [],
   "source": [
    "packageVersion(\"M348\")\n"
   ]
  },
  {
   "cell_type": "code",
   "execution_count": null,
   "id": "6c91e7a4",
   "metadata": {},
   "outputs": [],
   "source": [
    "library(M348)\n",
    "data(childMeasurements)\n",
    "attach(childMeasurements)\n",
    "table(ethnicity, obese, ageGroup)"
   ]
  },
  {
   "cell_type": "markdown",
   "id": "7c9ac413",
   "metadata": {},
   "source": [
    "Now a styled sample from a notebook..."
   ]
  },
  {
   "cell_type": "markdown",
   "id": "3ab7aade",
   "metadata": {},
   "source": [
    "---\n",
    "## (a) Getting started"
   ]
  },
  {
   "cell_type": "markdown",
   "id": "7606ec14",
   "metadata": {
    "tags": [
     "style-activity"
    ]
   },
   "source": [
    "**(i)** Run the code below to load the `M348` package and `mannaAsh` data frame and see the first six observations in the data frame."
   ]
  },
  {
   "cell_type": "code",
   "execution_count": null,
   "id": "bbb94927",
   "metadata": {
    "tags": [
     "style-student"
    ]
   },
   "outputs": [],
   "source": [
    "# Load the M348 package\n",
    "library(M348)\n",
    "# Load the mannaAsh data frame\n",
    "data(mannaAsh)\n",
    "# Look at the first six observations in the data frame\n",
    "head(mannaAsh)"
   ]
  },
  {
   "cell_type": "markdown",
   "id": "491f1de0",
   "metadata": {
    "vscode": {
     "languageId": "r"
    }
   },
   "source": [
    "---\n",
    "## (b) Fitting a simple linear regression model\n",
    "\n",
    "\n",
    "The `lm()` function is used to fit a simple linear regression model in R. The 'lm' stands for 'linear model' - simple linear regression is a type of linear model. The arguments of the `lm()` function tell R what the response variable of the simple linear regression model is and what the explanatory variable is. \n",
    "\n",
    "Box 3 (Subsection 4.1) in Unit 1 introduced some model notation, so that, for response variable $Y$ and explanatory variable $x$, \n",
    "\n",
    "y $\\sim$ x \n",
    "\n",
    "denotes the model \n",
    "\n",
    "$Y_i = \\alpha + \\beta x_i + W_i, \\quad\\quad  i=1,2,\\ldots,n$.\n",
    "\n",
    "R uses this same model notation with the `lm()` function, so that a simple linear regression model for response $Y$ and explanatory variable $x$ is fitted by using the command `lm(y ~ x)`."
   ]
  },
  {
   "cell_type": "markdown",
   "id": "8282104b",
   "metadata": {
    "solution2": "hidden",
    "solution2_first": true,
    "tags": [
     "style-activity"
    ]
   },
   "source": [
    "**(i)** For the simple linear regression model we are considering in this notebook, `height` is the response variable and `diameter` is the explanatory variable. So how should the command `lm(y ~ x)` be adapted to achieve this?"
   ]
  },
  {
   "cell_type": "markdown",
   "id": "b2d29c27",
   "metadata": {
    "solution2": "hidden",
    "tags": [
     "style-solution"
    ]
   },
   "source": [
    "#### Solution\n",
    "\n",
    "Instead of `y` we need to put `mannaAsh$height`, and instead of `x` we need to put `mannaAsh$diameter`. So the command becomes the following."
   ]
  },
  {
   "cell_type": "code",
   "execution_count": 13,
   "id": "612693a6",
   "metadata": {
    "scrolled": false,
    "solution2": "hidden",
    "tags": [
     "style-solution"
    ]
   },
   "outputs": [
    {
     "data": {
      "text/plain": [
       "\n",
       "Call:\n",
       "lm(formula = mannaAsh$height ~ mannaAsh$diameter)\n",
       "\n",
       "Coefficients:\n",
       "      (Intercept)  mannaAsh$diameter  \n",
       "             5.05              12.27  \n"
      ]
     },
     "metadata": {},
     "output_type": "display_data"
    }
   ],
   "source": [
    "lm(mannaAsh$height ~ mannaAsh$diameter)"
   ]
  }
 ],
 "metadata": {
  "kernelspec": {
   "display_name": "R",
   "language": "R",
   "name": "ir"
  },
  "language_info": {
   "codemirror_mode": "r",
   "file_extension": ".r",
   "mimetype": "text/x-r-source",
   "name": "R",
   "pygments_lexer": "r",
   "version": "4.0.4"
  }
 },
 "nbformat": 4,
 "nbformat_minor": 5
}
