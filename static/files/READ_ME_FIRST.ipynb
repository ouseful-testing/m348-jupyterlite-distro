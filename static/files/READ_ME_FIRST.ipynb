{
 "cells": [
  {
   "cell_type": "markdown",
   "id": "5a42a983",
   "metadata": {},
   "source": [
    "# Welcome to your first M348 notebook!\n",
    "\n",
    "This notebook will act as a test that your VCE is working as expected, and give a taste of what R can do. Do not worry about understanding the code that is given in the cells, just focus on the output. Whilst some of the code will become familiar to you, some is beyond what you will be expected to do (but is useful for checking that your VCE is operating as expected).\n",
    "\n",
    "To get started, on the menu bar above, click on 'Cell' and then select 'Run all'. Then scroll through this notebook, in particular to see the output that has been generated."
   ]
  },
  {
   "cell_type": "markdown",
   "id": "c6eb858c",
   "metadata": {},
   "source": [
    "The code in the cell immediately beneath this will show what version of R is installed in this VCE, along with some of the versions of some of the R packages included in this installation. You should find this information appears just beneath the cell containing this code."
   ]
  },
  {
   "cell_type": "code",
   "execution_count": null,
   "id": "fdbc7f68",
   "metadata": {
    "vscode": {
     "languageId": "r"
    }
   },
   "outputs": [],
   "source": [
    "pkgnames <- dimnames(installed.packages())[[1]]\n",
    "chkPackages <- c(\"M348\", \"MASS\",  \"nlme\", \"parallel\", \"plm\", \"urca\")\n",
    "\n",
    "cat(\"Your installation of R within this VCE is\", R.Version()$version.string,\".\\n\\n\")\n",
    "\n",
    "cat(\"This installation of R contains the following R packages:\\n\")\n",
    "for (pkg in chkPackages){\n",
    "    if (pkg %in% pkgnames){\n",
    "        tmpver <- unlist(packageVersion(pkg))\n",
    "        ntmpver <- length(tmpver)\n",
    "        if (ntmpver==1){\n",
    "            pgkver <- tmpver[1]\n",
    "        } else {\n",
    "            pkgver <- tmpver[1]\n",
    "            for (i in 2:ntmpver){\n",
    "                pkgver <- paste(pkgver,tmpver[i],sep=\".\")\n",
    "            }\n",
    "        }\n",
    "        cat(paste(pkg,\", version \", pkgver,\".\\n\",sep=\"\"))\n",
    "        library(pkg, character.only=TRUE)\n",
    "    }\n",
    "}"
   ]
  },
  {
   "cell_type": "markdown",
   "id": "d855174f",
   "metadata": {},
   "source": [
    "As you will discover as you study M348, in R is it possible to load data, perform basic calculations, create plots and graphs and fit a variety of statistical models. (And there's so much more that R can do that is beyond the scope of M348!)\n",
    "\n",
    "For example, the following will load a dataset contained in the `M348` R package (`mannaAsh`), fit a simple linear regression model to the data, plot the data on a scatterplot and add the fitted line. \n"
   ]
  },
  {
   "cell_type": "code",
   "execution_count": null,
   "id": "f33e8928",
   "metadata": {
    "vscode": {
     "languageId": "r"
    }
   },
   "outputs": [],
   "source": [
    "x <- mannaAsh$diameter\n",
    "y <- mannaAsh$height\n",
    "slrFit <- lm(y ~ x)\n",
    "plot(x,y,xlab=\"Diameter (m)\", ylab=\"Height (m)\",pch=16)\n",
    "abline(slrFit)\n"
   ]
  },
  {
   "cell_type": "markdown",
   "id": "9ae222c6",
   "metadata": {},
   "source": [
    "The final piece of code will print out a congratulatory message for you."
   ]
  },
  {
   "cell_type": "code",
   "execution_count": null,
   "id": "45a6870c",
   "metadata": {
    "vscode": {
     "languageId": "r"
    }
   },
   "outputs": [],
   "source": [
    "cat(\"Congratulations! Your VCE appears to be working as expected. \\n\")"
   ]
  },
  {
   "cell_type": "markdown",
   "id": "1181832b",
   "metadata": {},
   "source": [
    "Throughout the module you will be asked to undertake a series of exercises.\n",
    "\n",
    ":::{exercise}\n",
    ":label: exercise-1\n",
    "\n",
    "The exercise instructions will be in a block like this.\n",
    ":::\n",
    "\n",
    ":::{solution} exercise-1\n",
    ":class: dropdown\n",
    "\n",
    "A solution to the exercise will be in a block like this.\n",
    ":::"
   ]
  },
  {
   "cell_type": "markdown",
   "id": "0d61f071",
   "metadata": {},
   "source": [
    "---\n",
    "\n",
    "Note that the following are NOT included in this VCE at the start\n",
    "* The notebooks referred to in the units. These are available from the Resources tab of the module website, under *Computer Resources*. You will need to upload these notebooks to the VCE in order to use them or, in the case of a local VCE, move them to the shared folder.\n",
    "* Files containing data that are just used for assessment. These will be available from the Assessment tab of the module website.\n",
    "* Notebooks you will submit as part of the assessment. These you will create yourself. See the 'Specific guidance for M348 assignments', available from the Assessment tab of the module website.\n",
    "\n",
    "Note that when uploading a number of files to the VCE you may find it convenient to upload them as a single zip file. Once uploaded this zip file can be unzipped by doing the following:\n",
    "\n",
    "* Click on the New button in the Jupyter notebook homepage (it's just beside the ‘Upload’ button) and select ‘Terminal’ to open a  terminal. Then, in the terminal, to unzip a file called `filename.zip`,  type the command `unzip filename.zip` and press enter. Close the terminal."
   ]
  },
  {
   "cell_type": "markdown",
   "id": "f9978abe",
   "metadata": {},
   "source": [
    "---\n",
    "\n",
    "You have now come to the end of this notebook. You can now close this notebook by clicking on 'File' on the menu bar and then 'Close and Halt'.  "
   ]
  }
 ],
 "metadata": {
  "kernelspec": {
   "display_name": "R",
   "language": "R",
   "name": "ir"
  },
  "language_info": {
   "codemirror_mode": "r",
   "file_extension": ".r",
   "mimetype": "text/x-r-source",
   "name": "R",
   "pygments_lexer": "r",
   "version": "4.0.4"
  }
 },
 "nbformat": 4,
 "nbformat_minor": 5
}
