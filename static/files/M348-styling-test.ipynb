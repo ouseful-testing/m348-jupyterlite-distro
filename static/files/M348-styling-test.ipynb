{
  "cells": [
    {
      "cell_type": "markdown",
      "metadata": {},
      "source": [
        "# Styling Tests\n",
        "\n",
        "Is the environment styling wotking as expected?"
      ]
    },
    {
      "cell_type": "markdown",
      "metadata": {},
      "source": [
        "## Branding\n",
        "\n",
        "Is the environment styled with OU branding?"
      ]
    },
    {
      "cell_type": "markdown",
      "metadata": {},
      "source": [
        "## Coloured background cells\n",
        "\n",
        "Some OU modules make use of coloured cell backgrounds to disnitguish different content or activity types."
      ]
    },
    {
      "cell_type": "markdown",
      "metadata": {
        "tags": [
          "style-activity"
        ]
      },
      "source": [
        "A cell with a blue background."
      ]
    },
    {
      "cell_type": "code",
      "execution_count": 1,
      "metadata": {
        "tags": [
          "style-activity"
        ],
        "trusted": true
      },
      "outputs": [],
      "source": [
        "# A cell with a blue background."
      ]
    },
    {
      "cell_type": "markdown",
      "metadata": {
        "tags": [
          "style-learner"
        ]
      },
      "source": [
        "A cell with a yellow background."
      ]
    },
    {
      "cell_type": "code",
      "execution_count": 2,
      "metadata": {
        "tags": [
          "style-learner"
        ],
        "trusted": true
      },
      "outputs": [],
      "source": [
        "# A cell with a yellow background."
      ]
    },
    {
      "cell_type": "markdown",
      "metadata": {
        "tags": [
          "style-solution"
        ]
      },
      "source": [
        "A cell with a green background."
      ]
    },
    {
      "cell_type": "code",
      "execution_count": 3,
      "metadata": {
        "tags": [
          "style-solution"
        ],
        "trusted": true
      },
      "outputs": [],
      "source": [
        "# A cell with a green background."
      ]
    },
    {
      "cell_type": "markdown",
      "metadata": {
        "tags": [
          "style-tutor"
        ]
      },
      "source": [
        "A cell with a pink background."
      ]
    },
    {
      "cell_type": "code",
      "execution_count": 4,
      "metadata": {
        "tags": [
          "style-tutor"
        ],
        "trusted": true
      },
      "outputs": [],
      "source": [
        "# A cell with a pink background."
      ]
    },
    {
      "cell_type": "markdown",
      "metadata": {},
      "source": [
        "## Images\n",
        "\n",
        "This cell should render an image that is baked into the environment distribution files.\n",
        "\n",
        "![An image of Walton Hall](./imagestore/walton-hall-ou.jpg)\n",
        "\n",
        "*An image of Walton Hall at the Open University's Milton Keynes campus.*"
      ]
    }
  ],
  "metadata": {
    "kernelspec": {
      "display_name": "Python (Pyodide)",
      "language": "python",
      "name": "python"
    },
    "language_info": {
      "codemirror_mode": {
        "name": "python",
        "version": 3
      },
      "file_extension": ".py",
      "mimetype": "text/x-python",
      "name": "python",
      "nbconvert_exporter": "python",
      "pygments_lexer": "ipython3",
      "version": "3.8"
    }
  },
  "nbformat": 4,
  "nbformat_minor": 4
}
