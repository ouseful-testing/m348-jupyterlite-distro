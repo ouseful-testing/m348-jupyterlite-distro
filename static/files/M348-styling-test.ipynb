{
  "metadata": {
    "kernelspec": {
      "name": "python",
      "display_name": "Python (Pyodide)",
      "language": "python"
    },
    "language_info": {
      "codemirror_mode": {
        "name": "python",
        "version": 3
      },
      "file_extension": ".py",
      "mimetype": "text/x-python",
      "name": "python",
      "nbconvert_exporter": "python",
      "pygments_lexer": "ipython3",
      "version": "3.8"
    }
  },
  "nbformat_minor": 4,
  "nbformat": 4,
  "cells": [
    {
      "cell_type": "markdown",
      "source": "# Styling Tests\n\nIs the environment styling wotking as expected?",
      "metadata": {}
    },
    {
      "cell_type": "markdown",
      "source": "## Branding\n\nIs the environment styled with OU branding?",
      "metadata": {}
    },
    {
      "cell_type": "markdown",
      "source": "## Coloured background cells\n\nSome OU modules make use of coloured cell backgrounds to disnitguish different content or activity types.",
      "metadata": {}
    },
    {
      "cell_type": "markdown",
      "source": "A cell with a blue background.",
      "metadata": {
        "tags": [
          "style-activity"
        ]
      }
    },
    {
      "cell_type": "code",
      "source": "# A cell with a blue background.",
      "metadata": {
        "trusted": true,
        "tags": [
          "style-activity"
        ]
      },
      "outputs": [],
      "execution_count": 1
    },
    {
      "cell_type": "markdown",
      "source": "A cell with a yellow background.",
      "metadata": {
        "tags": [
          "style-learner"
        ]
      }
    },
    {
      "cell_type": "code",
      "source": "# A cell with a yellow background.",
      "metadata": {
        "trusted": true,
        "tags": [
          "style-learner"
        ]
      },
      "outputs": [],
      "execution_count": 2
    },
    {
      "cell_type": "markdown",
      "source": "A cell with a green background.",
      "metadata": {
        "tags": [
          "style-solution"
        ]
      }
    },
    {
      "cell_type": "code",
      "source": "# A cell with a green background.",
      "metadata": {
        "trusted": true,
        "tags": [
          "style-solution"
        ]
      },
      "outputs": [],
      "execution_count": 3
    },
    {
      "cell_type": "markdown",
      "source": "A cell with a pink background.",
      "metadata": {
        "tags": [
          "style-tutor"
        ]
      }
    },
    {
      "cell_type": "code",
      "source": "# A cell with a pink background.",
      "metadata": {
        "trusted": true,
        "tags": [
          "style-tutor"
        ]
      },
      "outputs": [],
      "execution_count": 4
    },
    {
      "cell_type": "markdown",
      "source": "## Rich markdown\n\nThis cell should contain two boxes with different colout themes.\n\n```{warning}\nA warning cell breakout box with a yellow title bar.\n```\n\n```{hint}\nA hint cell breakout box with a green title bar.\n```",
      "metadata": {}
    },
    {
      "cell_type": "markdown",
      "source": "This cell should render an image that is baked into the environment distribution files.\n\n![An image of Walton Hall](./imagestore/walton-hall-ou.jpg)\n\n*An image of Walton Hall at the Open University's Milton Keyenes campus.*",
      "metadata": {}
    }
  ]
}