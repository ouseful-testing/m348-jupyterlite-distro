{
 "cells": [
  {
   "cell_type": "markdown",
   "metadata": {},
   "source": [
    "# Notebook activity 5.1 Reading a CSV file into R and creating an R data file\n",
    "\n",
    "So far in M348, you have been using data that have been included in the R package `M348`. In this notebook activity you will instead read data into R that have been saved in a comma-delimited (CSV) format. \n",
    "\n",
    "The file you will be reading into R is **tokyo2020medals.csv**. \n",
    "\n",
    "The first 13 lines of this data file were shown in Figure 2, Subsection 2.2.1 of Unit 5."
   ]
  },
  {
   "cell_type": "markdown",
   "metadata": {},
   "source": [
    "---\n",
    "\n",
    "## (a) Getting started"
   ]
  },
  {
   "cell_type": "markdown",
   "metadata": {
    "tags": [
     "style-activity"
    ]
   },
   "source": [
    "**(i)** Make sure that there is a copy of the file **tokyo2020medals.csv** in the same folder of this notebook. (This file was included in the zip file for the Unit 5 notebooks.)"
   ]
  },
  {
   "cell_type": "markdown",
   "metadata": {},
   "source": [
    "---\n",
    "\n",
    "## (b) Reading in a CSV file"
   ]
  },
  {
   "cell_type": "markdown",
   "metadata": {},
   "source": [
    "In R, the function `read.csv()` can be used to read in data from a CSV file. The following command can be used to read the file called **filename.csv** into R and store the data in the object called `object`:\n",
    "\n",
    "`object <- read.csv(\"filename.csv\")`.\n",
    "\n",
    "Notice that the name of the CSV file needs to be put in quotation marks (\" \"). \n",
    "\n",
    "By default, the `read.csv()` function assumes that the first line gives the names of the variables (i.e. that the file has a 'header'). "
   ]
  },
  {
   "cell_type": "markdown",
   "metadata": {
    "tags": [
     "style-activity"
    ]
   },
   "source": [
    "**(i)** Run the code below to read the data from the CSV file **tokyo2020medals.csv** into R, and assign the data from the CSV file to an object called `medals2020`. \n",
    "\n",
    "Note running this command will not produce any output."
   ]
  },
  {
   "cell_type": "code",
   "execution_count": 1,
   "metadata": {
    "tags": [
     "style-student"
    ]
   },
   "outputs": [],
   "source": [
    "medals2020 <- read.csv(\"tokyo2020medals.csv\")"
   ]
  },
  {
   "cell_type": "markdown",
   "metadata": {
    "tags": [
     "style-activity"
    ]
   },
   "source": [
    "**(ii)** Use the `head()` function to look at the first few entries in the object `medals2020`."
   ]
  },
  {
   "cell_type": "code",
   "execution_count": null,
   "metadata": {
    "solution2": "hidden",
    "solution2_first": true,
    "tags": [
     "style-student"
    ]
   },
   "outputs": [],
   "source": []
  },
  {
   "cell_type": "markdown",
   "metadata": {
    "solution2": "hidden",
    "tags": [
     "style-solution"
    ]
   },
   "source": [
    "**Solution**\n",
    "\n",
    "The required code and resulting output are given below."
   ]
  },
  {
   "cell_type": "code",
   "execution_count": 2,
   "metadata": {
    "scrolled": true,
    "solution2": "hidden",
    "tags": [
     "style-solution"
    ]
   },
   "outputs": [
    {
     "data": {
      "text/html": [
       "<table class=\"dataframe\">\n",
       "<caption>A data.frame: 6 × 7</caption>\n",
       "<thead>\n",
       "\t<tr><th></th><th scope=col>rank</th><th scope=col>country</th><th scope=col>countryCode</th><th scope=col>gold</th><th scope=col>silver</th><th scope=col>bronze</th><th scope=col>total</th></tr>\n",
       "\t<tr><th></th><th scope=col>&lt;int&gt;</th><th scope=col>&lt;chr&gt;</th><th scope=col>&lt;chr&gt;</th><th scope=col>&lt;int&gt;</th><th scope=col>&lt;int&gt;</th><th scope=col>&lt;int&gt;</th><th scope=col>&lt;int&gt;</th></tr>\n",
       "</thead>\n",
       "<tbody>\n",
       "\t<tr><th scope=row>1</th><td>1</td><td> United States</td><td>USA</td><td>39</td><td>41</td><td>33</td><td>113</td></tr>\n",
       "\t<tr><th scope=row>2</th><td>2</td><td> China        </td><td>CHN</td><td>38</td><td>32</td><td>18</td><td> 88</td></tr>\n",
       "\t<tr><th scope=row>3</th><td>3</td><td> Japan*       </td><td>JPN</td><td>27</td><td>14</td><td>17</td><td> 58</td></tr>\n",
       "\t<tr><th scope=row>4</th><td>4</td><td> Great Britain</td><td>GBR</td><td>22</td><td>21</td><td>22</td><td> 65</td></tr>\n",
       "\t<tr><th scope=row>5</th><td>5</td><td> ROC          </td><td>ROC</td><td>20</td><td>28</td><td>23</td><td> 71</td></tr>\n",
       "\t<tr><th scope=row>6</th><td>6</td><td> Australia    </td><td>AUS</td><td>17</td><td> 7</td><td>22</td><td> 46</td></tr>\n",
       "</tbody>\n",
       "</table>\n"
      ],
      "text/latex": [
       "A data.frame: 6 × 7\n",
       "\\begin{tabular}{r|lllllll}\n",
       "  & rank & country & countryCode & gold & silver & bronze & total\\\\\n",
       "  & <int> & <chr> & <chr> & <int> & <int> & <int> & <int>\\\\\n",
       "\\hline\n",
       "\t1 & 1 &  United States & USA & 39 & 41 & 33 & 113\\\\\n",
       "\t2 & 2 &  China         & CHN & 38 & 32 & 18 &  88\\\\\n",
       "\t3 & 3 &  Japan*        & JPN & 27 & 14 & 17 &  58\\\\\n",
       "\t4 & 4 &  Great Britain & GBR & 22 & 21 & 22 &  65\\\\\n",
       "\t5 & 5 &  ROC           & ROC & 20 & 28 & 23 &  71\\\\\n",
       "\t6 & 6 &  Australia     & AUS & 17 &  7 & 22 &  46\\\\\n",
       "\\end{tabular}\n"
      ],
      "text/markdown": [
       "\n",
       "A data.frame: 6 × 7\n",
       "\n",
       "| <!--/--> | rank &lt;int&gt; | country &lt;chr&gt; | countryCode &lt;chr&gt; | gold &lt;int&gt; | silver &lt;int&gt; | bronze &lt;int&gt; | total &lt;int&gt; |\n",
       "|---|---|---|---|---|---|---|---|\n",
       "| 1 | 1 |  United States | USA | 39 | 41 | 33 | 113 |\n",
       "| 2 | 2 |  China         | CHN | 38 | 32 | 18 |  88 |\n",
       "| 3 | 3 |  Japan*        | JPN | 27 | 14 | 17 |  58 |\n",
       "| 4 | 4 |  Great Britain | GBR | 22 | 21 | 22 |  65 |\n",
       "| 5 | 5 |  ROC           | ROC | 20 | 28 | 23 |  71 |\n",
       "| 6 | 6 |  Australia     | AUS | 17 |  7 | 22 |  46 |\n",
       "\n"
      ],
      "text/plain": [
       "  rank country        countryCode gold silver bronze total\n",
       "1 1     United States USA         39   41     33     113  \n",
       "2 2     China         CHN         38   32     18      88  \n",
       "3 3     Japan*        JPN         27   14     17      58  \n",
       "4 4     Great Britain GBR         22   21     22      65  \n",
       "5 5     ROC           ROC         20   28     23      71  \n",
       "6 6     Australia     AUS         17    7     22      46  "
      ]
     },
     "metadata": {},
     "output_type": "display_data"
    }
   ],
   "source": [
    "head(medals2020)"
   ]
  },
  {
   "cell_type": "markdown",
   "metadata": {},
   "source": [
    "---\n",
    "\n",
    "The object `medals2020` is automatically a data frame. This can be checked by using the function `class()` that was introduced in Notebook activity 3.1."
   ]
  },
  {
   "cell_type": "markdown",
   "metadata": {
    "tags": [
     "style-activity"
    ]
   },
   "source": [
    "**(iii)** Run the following command to check that `medals2020` is a data frame."
   ]
  },
  {
   "cell_type": "code",
   "execution_count": null,
   "metadata": {
    "solution2": "hidden",
    "solution2_first": true,
    "tags": [
     "style-student"
    ]
   },
   "outputs": [],
   "source": [
    "class(medals2020)"
   ]
  },
  {
   "cell_type": "markdown",
   "metadata": {
    "solution2": "hidden",
    "tags": [
     "style-solution"
    ]
   },
   "source": [
    "**Solution**\n",
    "\n",
    "You should see that the output is `'data.frame'`. This confirms that `medals2020` is indeed a data frame."
   ]
  },
  {
   "cell_type": "markdown",
   "metadata": {},
   "source": [
    "---\n",
    "\n",
    "## (c) Saving the data into R's data format\n",
    "\n",
    "Having read the data into R, and stored them in the form of a data frame, it is helpful to save the data frame in one of R's own formats. \n",
    "\n",
    "R data files have the extension `.RData` after their filenames. So, to save a data frame called `dataFrame`, say, into an R data file called `filename.RData`, we can use the `save()` function and the command:\n",
    "\n",
    "`save(dataFrame, file = \"filename.RData\")`\n",
    "\n",
    "Note that with the save function is it important give the filename using `file = \"filename.Rdata\"` and not just `\"filename.data\"`.  \n",
    "\n",
    "Note also, that we recommend that you give the extension of the filename as `.RData`."
   ]
  },
  {
   "cell_type": "markdown",
   "metadata": {
    "tags": [
     "style-activity"
    ]
   },
   "source": [
    "**(i)** Remove the `#` and adapt the code below to save the data frame `medals2020` in a file called `medals2020.Rdata`.\n",
    "\n",
    "Note that running the `save()` command will not produce any output in the notebook, *but* if you take a look at the files in your current (notebook) folder, you should find the new file."
   ]
  },
  {
   "cell_type": "code",
   "execution_count": 4,
   "metadata": {
    "solution2": "hidden",
    "solution2_first": true,
    "tags": [
     "style-student"
    ]
   },
   "outputs": [],
   "source": [
    "# save(dataFrame, file = \"filename.RData\")"
   ]
  },
  {
   "cell_type": "markdown",
   "metadata": {
    "solution2": "hidden",
    "tags": [
     "style-solution"
    ]
   },
   "source": [
    "**Solution**\n",
    "\n",
    "The required code is given in the code cell below. "
   ]
  },
  {
   "cell_type": "code",
   "execution_count": 5,
   "metadata": {
    "solution2": "hidden",
    "tags": [
     "style-solution"
    ]
   },
   "outputs": [],
   "source": [
    "save(medals2020, file = \"medals2020.RData\")"
   ]
  },
  {
   "cell_type": "markdown",
   "metadata": {},
   "source": [
    "---\n",
    "\n",
    "## (d) Finishing off"
   ]
  },
  {
   "cell_type": "markdown",
   "metadata": {
    "tags": [
     "style-activity"
    ]
   },
   "source": [
    "**(i)** Take a look at the files in your current (notebook) folder to check that the file **medals2020.RData** is there. Do not delete this file as you will need for Notebook activities 5.2 and 5.4."
   ]
  }
 ],
 "metadata": {
  "kernelspec": {
   "display_name": "R",
   "language": "R",
   "name": "ir"
  },
  "language_info": {
   "codemirror_mode": "r",
   "file_extension": ".r",
   "mimetype": "text/x-r-source",
   "name": "R",
   "pygments_lexer": "r",
   "version": "4.0.4"
  }
 },
 "nbformat": 4,
 "nbformat_minor": 2
}
