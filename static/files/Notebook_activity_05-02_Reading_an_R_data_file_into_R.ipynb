{
 "cells": [
  {
   "cell_type": "markdown",
   "metadata": {},
   "source": [
    "# Notebook activity 5.2 Reading an R data file into R\n",
    "\n",
    "In Notebook activity 5.1, we read data saved in a CSV format (the file **tokyo2020medals.csv**) into R, and we then saved the resulting data frame in an R data file (in the file **medals2020.RData**).\n",
    "\n",
    "In this notebook activity, we will load the saved R data file **medals2020.RData** into R."
   ]
  },
  {
   "cell_type": "markdown",
   "metadata": {},
   "source": [
    "---\n",
    "\n",
    "## (a) Getting started"
   ]
  },
  {
   "cell_type": "markdown",
   "metadata": {
    "tags": [
     "style-activity"
    ]
   },
   "source": [
    "**(i)** Make sure that a copy of the file **medals2020.RData** is saved in the same folder as this notebook."
   ]
  },
  {
   "cell_type": "markdown",
   "metadata": {},
   "source": [
    "---\n",
    "\n",
    "## (b) Reading in a R data file\n",
    "\n",
    "\n",
    "\n",
    "To read an R data file called, say, `filename.RData` into R, we simply use the command `load(\"filename.RData\")`. (This is the same as you are asked to do to read in data frames that are just used in TMAs and the EMA.)\n",
    "\n",
    "When doing this, make sure that the R data file is in the same folder as your current notebook. Also, once again note that we need to use quotation marks around the file name."
   ]
  },
  {
   "cell_type": "markdown",
   "metadata": {
    "tags": [
     "style-activity"
    ]
   },
   "source": [
    "**(i)** Remove the `#` and adapt the code below to read the R data file **medals2020.RData** into R. \n",
    "\n",
    "Note that running the code does not create any output."
   ]
  },
  {
   "cell_type": "code",
   "execution_count": 1,
   "metadata": {
    "solution2": "hidden",
    "solution2_first": true,
    "tags": [
     "style-student"
    ]
   },
   "outputs": [],
   "source": [
    "# load(\"filename.RData\")"
   ]
  },
  {
   "cell_type": "markdown",
   "metadata": {
    "solution2": "hidden",
    "tags": [
     "style-solution"
    ]
   },
   "source": [
    "**Solution**\n",
    "\n",
    "The required code is given below."
   ]
  },
  {
   "cell_type": "code",
   "execution_count": 2,
   "metadata": {
    "solution2": "hidden",
    "tags": [
     "style-solution"
    ]
   },
   "outputs": [],
   "source": [
    "load(\"medals2020.RData\")"
   ]
  },
  {
   "cell_type": "markdown",
   "metadata": {},
   "source": [
    "---\n",
    "\n",
    "Once the R data file has been loaded, the data (in the form of R objects) contained within it become available.\n",
    "\n",
    "Of course to use these objects we need to know that they are called. One way of finding out is to use the command `ls()`. The output from this command are the names of the object that have been created in the session (included those loaded). "
   ]
  },
  {
   "cell_type": "markdown",
   "metadata": {
    "tags": [
     "style-activity"
    ]
   },
   "source": [
    "**(ii)** Run the following code to to see what objects have been created."
   ]
  },
  {
   "cell_type": "code",
   "execution_count": null,
   "metadata": {
    "scrolled": true,
    "solution2": "hidden",
    "solution2_first": true,
    "tags": [
     "style-student"
    ]
   },
   "outputs": [],
   "source": [
    "ls()"
   ]
  },
  {
   "cell_type": "markdown",
   "metadata": {
    "solution2": "hidden",
    "tags": [
     "style-solution"
    ]
   },
   "source": [
    "**Solution**\n",
    "\n",
    "The output contains the name `'medals2020'` which is the name of the (only) object contained in **medals2020.RData**"
   ]
  },
  {
   "cell_type": "markdown",
   "metadata": {},
   "source": [
    "---\n",
    "\n",
    "From part (ii) you should have noticed that the output included an object called `medals2020` (containing the data from the R data file) "
   ]
  },
  {
   "cell_type": "markdown",
   "metadata": {
    "tags": [
     "style-activity"
    ]
   },
   "source": [
    "**(iii)** By using the command `class()`, check that `medals2020` is a data frame."
   ]
  },
  {
   "cell_type": "code",
   "execution_count": null,
   "metadata": {
    "solution2": "hidden",
    "solution2_first": true,
    "tags": [
     "style-student"
    ]
   },
   "outputs": [],
   "source": []
  },
  {
   "cell_type": "markdown",
   "metadata": {
    "solution2": "hidden",
    "tags": [
     "style-solution"
    ]
   },
   "source": [
    "**Solution**\n",
    "\n",
    "The required code is given below. The resulting output confirms that `medals2020` is a data frame."
   ]
  },
  {
   "cell_type": "code",
   "execution_count": 4,
   "metadata": {
    "solution2": "hidden",
    "tags": [
     "style-solution"
    ]
   },
   "outputs": [
    {
     "data": {
      "text/html": [
       "'data.frame'"
      ],
      "text/latex": [
       "'data.frame'"
      ],
      "text/markdown": [
       "'data.frame'"
      ],
      "text/plain": [
       "[1] \"data.frame\""
      ]
     },
     "metadata": {},
     "output_type": "display_data"
    }
   ],
   "source": [
    "class(medals2020)"
   ]
  },
  {
   "cell_type": "markdown",
   "metadata": {},
   "source": [
    "---\n",
    "\n",
    "As `medals2020` is a data frame we can then work with it in the same way that we have with data frames previously. For example, in part (iv) you will obtain the first few rows of `medals2020`."
   ]
  },
  {
   "cell_type": "markdown",
   "metadata": {
    "tags": [
     "style-activity"
    ]
   },
   "source": [
    "**(iv)** Use the `head()` function in the empty code cell below to check that the data frame `medals2020` contained in the R data file **medals2020.RData** has loaded okay."
   ]
  },
  {
   "cell_type": "code",
   "execution_count": null,
   "metadata": {
    "solution2": "hidden",
    "solution2_first": true,
    "tags": [
     "style-student"
    ]
   },
   "outputs": [],
   "source": []
  },
  {
   "cell_type": "markdown",
   "metadata": {
    "solution2": "hidden",
    "tags": [
     "style-solution"
    ]
   },
   "source": [
    "**Solution**\n",
    "\n",
    "The required code and resulting output are given below. \n",
    "\n",
    "The data frame contained in the R data file has indeed loaded okay."
   ]
  },
  {
   "cell_type": "code",
   "execution_count": 5,
   "metadata": {
    "scrolled": false,
    "solution2": "hidden",
    "tags": [
     "style-solution"
    ]
   },
   "outputs": [
    {
     "data": {
      "text/html": [
       "<table class=\"dataframe\">\n",
       "<caption>A data.frame: 6 × 7</caption>\n",
       "<thead>\n",
       "\t<tr><th></th><th scope=col>rank</th><th scope=col>country</th><th scope=col>countryCode</th><th scope=col>gold</th><th scope=col>silver</th><th scope=col>bronze</th><th scope=col>total</th></tr>\n",
       "\t<tr><th></th><th scope=col>&lt;int&gt;</th><th scope=col>&lt;chr&gt;</th><th scope=col>&lt;chr&gt;</th><th scope=col>&lt;int&gt;</th><th scope=col>&lt;int&gt;</th><th scope=col>&lt;int&gt;</th><th scope=col>&lt;int&gt;</th></tr>\n",
       "</thead>\n",
       "<tbody>\n",
       "\t<tr><th scope=row>1</th><td>1</td><td> United States</td><td>USA</td><td>39</td><td>41</td><td>33</td><td>113</td></tr>\n",
       "\t<tr><th scope=row>2</th><td>2</td><td> China        </td><td>CHN</td><td>38</td><td>32</td><td>18</td><td> 88</td></tr>\n",
       "\t<tr><th scope=row>3</th><td>3</td><td> Japan*       </td><td>JPN</td><td>27</td><td>14</td><td>17</td><td> 58</td></tr>\n",
       "\t<tr><th scope=row>4</th><td>4</td><td> Great Britain</td><td>GBR</td><td>22</td><td>21</td><td>22</td><td> 65</td></tr>\n",
       "\t<tr><th scope=row>5</th><td>5</td><td> ROC          </td><td>ROC</td><td>20</td><td>28</td><td>23</td><td> 71</td></tr>\n",
       "\t<tr><th scope=row>6</th><td>6</td><td> Australia    </td><td>AUS</td><td>17</td><td> 7</td><td>22</td><td> 46</td></tr>\n",
       "</tbody>\n",
       "</table>\n"
      ],
      "text/latex": [
       "A data.frame: 6 × 7\n",
       "\\begin{tabular}{r|lllllll}\n",
       "  & rank & country & countryCode & gold & silver & bronze & total\\\\\n",
       "  & <int> & <chr> & <chr> & <int> & <int> & <int> & <int>\\\\\n",
       "\\hline\n",
       "\t1 & 1 &  United States & USA & 39 & 41 & 33 & 113\\\\\n",
       "\t2 & 2 &  China         & CHN & 38 & 32 & 18 &  88\\\\\n",
       "\t3 & 3 &  Japan*        & JPN & 27 & 14 & 17 &  58\\\\\n",
       "\t4 & 4 &  Great Britain & GBR & 22 & 21 & 22 &  65\\\\\n",
       "\t5 & 5 &  ROC           & ROC & 20 & 28 & 23 &  71\\\\\n",
       "\t6 & 6 &  Australia     & AUS & 17 &  7 & 22 &  46\\\\\n",
       "\\end{tabular}\n"
      ],
      "text/markdown": [
       "\n",
       "A data.frame: 6 × 7\n",
       "\n",
       "| <!--/--> | rank &lt;int&gt; | country &lt;chr&gt; | countryCode &lt;chr&gt; | gold &lt;int&gt; | silver &lt;int&gt; | bronze &lt;int&gt; | total &lt;int&gt; |\n",
       "|---|---|---|---|---|---|---|---|\n",
       "| 1 | 1 |  United States | USA | 39 | 41 | 33 | 113 |\n",
       "| 2 | 2 |  China         | CHN | 38 | 32 | 18 |  88 |\n",
       "| 3 | 3 |  Japan*        | JPN | 27 | 14 | 17 |  58 |\n",
       "| 4 | 4 |  Great Britain | GBR | 22 | 21 | 22 |  65 |\n",
       "| 5 | 5 |  ROC           | ROC | 20 | 28 | 23 |  71 |\n",
       "| 6 | 6 |  Australia     | AUS | 17 |  7 | 22 |  46 |\n",
       "\n"
      ],
      "text/plain": [
       "  rank country        countryCode gold silver bronze total\n",
       "1 1     United States USA         39   41     33     113  \n",
       "2 2     China         CHN         38   32     18      88  \n",
       "3 3     Japan*        JPN         27   14     17      58  \n",
       "4 4     Great Britain GBR         22   21     22      65  \n",
       "5 5     ROC           ROC         20   28     23      71  \n",
       "6 6     Australia     AUS         17    7     22      46  "
      ]
     },
     "metadata": {},
     "output_type": "display_data"
    }
   ],
   "source": [
    "head(medals2020)"
   ]
  }
 ],
 "metadata": {
  "kernelspec": {
   "display_name": "R",
   "language": "R",
   "name": "ir"
  },
  "language_info": {
   "codemirror_mode": "r",
   "file_extension": ".r",
   "mimetype": "text/x-r-source",
   "name": "R",
   "pygments_lexer": "r",
   "version": "4.0.4"
  }
 },
 "nbformat": 4,
 "nbformat_minor": 2
}
