{
  "cells": [
    {
      "cell_type": "markdown",
      "metadata": {},
      "source": [
        "# M348 Code tests\n",
        "\n",
        "Notebook to test package loads and simple functionality.\n",
        "\n",
        "When the notebook has loaded, wait for the kernel indicator (top right on the notebook toolbar) to show an empty circle (○) and indicate the `R (webR)` kernel. (If it shows `Pyodide`, clcik on it and select `R,(webR)` *(I will remove pyodide in the final release).\n",
        "\n",
        "When the kernel is ready, click in the code cell below and run it either by `shift-Return` or clicking the play button (⏵) in the notebook toolbar.\n",
        "\n",
        "Keep running cells till you get to the end (you can also \"run\" over the markdown cells; each run cell should move the selection onto the next cell.\n",
        "\n",
        "If each cell indicator to the left of the cell goes green, that is success. If the cell indicator to the left goes pink, there was an error."
      ]
    },
    {
      "cell_type": "code",
      "execution_count": null,
      "metadata": {
        "vscode": {
          "languageId": "r"
        }
      },
      "outputs": [],
      "source": [
        "# Image platting on window hack\n",
        "options(device = function(...){\n",
        "    png(...)\n",
        "    dev.control(\"enable\")\n",
        " }, webr.plot.new = FALSE)"
      ]
    },
    {
      "cell_type": "markdown",
      "metadata": {},
      "source": [
        "## Reading data from a bundled CSV file\n",
        "\n",
        "We can load data in from a file bundled into the distribution as:"
      ]
    },
    {
      "cell_type": "code",
      "execution_count": null,
      "metadata": {
        "trusted": true,
        "vscode": {
          "languageId": "r"
        }
      },
      "outputs": [],
      "source": [
        "# Inspect the URL of this site for the actual port number\n",
        "# For example, in http://localhost:8888/ the port number is: 8888\n",
        "# localhost and 1287.0.0.1 are equivalent domains\n",
        "PORTNUMBER = 51550 \n",
        "\n",
        "# Using the example port 8888, we can explicitly write\n",
        "#data = read.csv(\"http://localhost:8888/files/tokyo2020medals.csv\")\n",
        "\n",
        "file_url = function (filename) {\n",
        "                PORTNUMBER <- if (exists(\"PORTNUMBER\")) PORTNUMBER else 8348\n",
        "                paste0(\"http://localhost:\",PORTNUMBER,\"/files/\",filename)\n",
        "    }\n",
        "\n",
        "read.csv2 = function (filename) {\n",
        "    return read.csv(file_url(\"tokyo2020medals.csv\"))\n",
        "    }\n",
        "\n",
        "read.csv3 <- function(filename) {\n",
        "  # Check if the file exists in the R file system\n",
        "  if (file.exists(filename)) {\n",
        "    # If the file exists, read it using base R's read.csv()\n",
        "    return(read.csv(filename))\n",
        "  } else {\n",
        "    # If the file doesn't exist, try reading it from the JupyterLite file system\n",
        "    return(read.csv2(filename))\n",
        "  }\n",
        "}\n",
        "\n",
        "data = read.csv2(filename)\n",
        "\n",
        "head(data)"
      ]
    },
    {
      "cell_type": "code",
      "execution_count": null,
      "metadata": {
        "trusted": true,
        "vscode": {
          "languageId": "r"
        }
      },
      "outputs": [],
      "source": [
        "shared_url = function (filename) {\n",
        "    PORTNUMBER <- if (exists(\"PORTNUMBER\")) PORTNUMBER else 8348\n",
        "    paste0(\"http://localhost:\",PORTNUMBER,\"/share/\",filename)\n",
        "}\n",
        "\n",
        "# The server also serves files from the \"M348-24J\"\n",
        "# in the user's home directory.\n",
        "\n",
        "#For example, if I have a data file \"testdata.csv\"\n",
        "# in a folder called \"data\"\n",
        "# inside a folder called EMA\n",
        "# inside my \"M348-24J\" folder in my home directory\n",
        "# I can set a path to it inside the \"M348-24J\" folder as:\n",
        "DESKTOP_HOMEDIR_DATA_FILE = \"EMA/data/testdata.csv\"\n",
        "\n",
        "# Now read the data file in:\n",
        "shared_data = read.csv(shared_url(DESKTOP_HOMEDIR_DATA_FILE))\n",
        "\n",
        "head(shared_data)"
      ]
    },
    {
      "cell_type": "markdown",
      "metadata": {},
      "source": [
        "## Package M348\n",
        "\n",
        "The core package."
      ]
    },
    {
      "cell_type": "code",
      "execution_count": null,
      "metadata": {
        "trusted": true,
        "vscode": {
          "languageId": "r"
        }
      },
      "outputs": [],
      "source": [
        "# Load test\n",
        "library(M348)"
      ]
    },
    {
      "cell_type": "code",
      "execution_count": null,
      "metadata": {
        "trusted": true,
        "vscode": {
          "languageId": "r"
        }
      },
      "outputs": [],
      "source": [
        "# Data package load from M348 test\n",
        "data('childMeasurements')"
      ]
    },
    {
      "cell_type": "code",
      "execution_count": null,
      "metadata": {
        "trusted": true,
        "vscode": {
          "languageId": "r"
        }
      },
      "outputs": [],
      "source": [
        "# Data view\n",
        "\n",
        "# Make the vectors in the data frame obesity directly accessible to R\n",
        "attach(childMeasurements)\n",
        "# Check the data frame has loaded OK\n",
        "head(childMeasurements)"
      ]
    },
    {
      "cell_type": "code",
      "execution_count": null,
      "metadata": {
        "trusted": true,
        "vscode": {
          "languageId": "r"
        }
      },
      "outputs": [],
      "source": [
        "#ls(\"package:M348\")\n",
        "data(ouStudents)\n",
        "attach(ouStudents)\n",
        "\n",
        "modelFit <- glm(modResult ~ contAssScore + bestPrevModScore + age, family=\"binomial\")\n"
      ]
    },
    {
      "cell_type": "code",
      "execution_count": null,
      "metadata": {
        "trusted": true,
        "vscode": {
          "languageId": "r"
        }
      },
      "outputs": [],
      "source": [
        "# Produce diagnostic plots for the fitted model\n",
        "\n",
        "# THIS CURRENTLY ERRORS\n",
        "glmResidPlot(modelFit)\n",
        "# THIS CURRENTLY ERRORS"
      ]
    },
    {
      "cell_type": "markdown",
      "metadata": {},
      "source": [
        "## `plm`\n",
        "\n",
        "Test loading in the package:"
      ]
    },
    {
      "cell_type": "code",
      "execution_count": null,
      "metadata": {
        "trusted": true,
        "vscode": {
          "languageId": "r"
        }
      },
      "outputs": [],
      "source": [
        "library(plm)"
      ]
    },
    {
      "cell_type": "code",
      "execution_count": null,
      "metadata": {
        "trusted": true,
        "vscode": {
          "languageId": "r"
        }
      },
      "outputs": [],
      "source": [
        "library(plm)\n",
        "data(\"EmplUK\", package=\"plm\")\n",
        "data(\"Grunfeld\", package=\"plm\")\n",
        "\n",
        "head(Grunfeld)\n"
      ]
    },
    {
      "cell_type": "code",
      "execution_count": null,
      "metadata": {
        "trusted": true,
        "vscode": {
          "languageId": "r"
        }
      },
      "outputs": [],
      "source": [
        "# Try a panel dataframe\n",
        "E <- pdata.frame(EmplUK, index=c(\"firm\",\"year\"), drop.index=TRUE, row.names=TRUE)\n",
        "head(E)"
      ]
    },
    {
      "cell_type": "markdown",
      "metadata": {},
      "source": [
        "## `urca` package\n",
        "\n",
        "Test loading package in:"
      ]
    },
    {
      "cell_type": "code",
      "execution_count": null,
      "metadata": {
        "trusted": true,
        "vscode": {
          "languageId": "r"
        }
      },
      "outputs": [],
      "source": [
        "library(urca)"
      ]
    },
    {
      "cell_type": "code",
      "execution_count": null,
      "metadata": {
        "trusted": true,
        "vscode": {
          "languageId": "r"
        }
      },
      "outputs": [],
      "source": [
        "# Test a function loaded from urca\n",
        "set.seed(123)\n",
        "time_series <- cumsum(rnorm(100))  # Random walk\n",
        "\n",
        "# Step 3: Perform the Augmented Dickey-Fuller (ADF) test\n",
        "adf_test <- ur.df(time_series, type = \"drift\", lags = 2)\n",
        "\n",
        "# Step 4: View the test results\n",
        "summary(adf_test)\n"
      ]
    },
    {
      "cell_type": "markdown",
      "metadata": {},
      "source": [
        "## `nlme` package\n",
        "\n",
        "Load package:"
      ]
    },
    {
      "cell_type": "code",
      "execution_count": null,
      "metadata": {
        "trusted": true,
        "vscode": {
          "languageId": "r"
        }
      },
      "outputs": [],
      "source": [
        "library(nlme)"
      ]
    },
    {
      "cell_type": "code",
      "execution_count": null,
      "metadata": {
        "trusted": true,
        "vscode": {
          "languageId": "r"
        }
      },
      "outputs": [],
      "source": [
        "library(nlme)\n",
        "\n",
        "# Load the built-in 'Orthodont' dataset\n",
        "data(\"Orthodont\")\n",
        "\n",
        "# Fit a linear mixed-effects model using the lme() function\n",
        "# Response variable: distance (the response is dental measurement)\n",
        "# Fixed effect: age (predictor)\n",
        "# Random effect: intercept for each Subject\n",
        "lme_model <- lme(distance ~ age, random = ~ 1 | Subject, data = Orthodont)\n",
        "\n",
        "# Plot residuals to assess the model fit\n",
        "plot(lme_model)"
      ]
    },
    {
      "cell_type": "code",
      "execution_count": null,
      "metadata": {
        "trusted": true,
        "vscode": {
          "languageId": "r"
        }
      },
      "outputs": [],
      "source": []
    }
  ],
  "metadata": {
    "kernelspec": {
      "display_name": "R (webR)",
      "language": "R",
      "name": "webR"
    },
    "language_info": {
      "file_extension": ".R",
      "mimetype": "text/x-rsrc",
      "name": "R",
      "version": "4.3.3"
    }
  },
  "nbformat": 4,
  "nbformat_minor": 4
}
