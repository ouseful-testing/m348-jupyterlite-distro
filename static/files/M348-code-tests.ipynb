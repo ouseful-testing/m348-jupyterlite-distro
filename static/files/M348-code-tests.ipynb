{
  "cells": [
    {
      "cell_type": "markdown",
      "metadata": {},
      "source": [
        "# M348 Code tests\n",
        "\n",
        "Notebook to test package loads and simple functionality.\n",
        "\n",
        "When the notebook has loaded, wait for the kernel indicator (top right on the notebook toolbar) to show an empty circle (○) and indicate the `R (webR)` kernel. *If the kernel name shows as `Pyodide`, click on that kernel name and select `R (webR)`.*\n",
        "\n",
        "When the kernel is ready, run cells one at a time by clicking in the code cell below and run it either by `shift-Return` or clicking the play button (⏵) in the notebook toolbar. (Alternatively, run all cells from the *Run* menu, option *Run All Cells*.)\n",
        "\n",
        "Keep running cells till you get to the end (you can also \"run\" over the markdown cells; each run cell should move the selection onto the next cell).\n",
        "\n",
        "If each cell indicator to the left of the cell goes green, that is success. If the cell indicator to the left goes pink, there was an error."
      ]
    },
    {
      "cell_type": "markdown",
      "metadata": {},
      "source": [
        "## Package M348\n",
        "\n",
        "The core package used by many of the M348 notebooks. This package includes several functions and data packages used in the module. Loading the packahe also loads several utilities that help ensure that *all* R notebooks function correctly in the JupyterLite environment."
      ]
    },
    {
      "cell_type": "code",
      "execution_count": null,
      "metadata": {
        "trusted": true,
        "vscode": {
          "languageId": "r"
        }
      },
      "outputs": [],
      "source": [
        "# Load test\n",
        "library(M348)"
      ]
    },
    {
      "cell_type": "code",
      "execution_count": null,
      "metadata": {
        "trusted": true,
        "vscode": {
          "languageId": "r"
        }
      },
      "outputs": [],
      "source": [
        "# Data package load from M348 test\n",
        "data('childMeasurements')"
      ]
    },
    {
      "cell_type": "code",
      "execution_count": null,
      "metadata": {
        "trusted": true,
        "vscode": {
          "languageId": "r"
        }
      },
      "outputs": [],
      "source": [
        "# Data view\n",
        "\n",
        "# Make the vectors in the data frame obesity directly accessible to R\n",
        "attach(childMeasurements)\n",
        "# Check the data frame has loaded OK\n",
        "head(childMeasurements)"
      ]
    },
    {
      "cell_type": "code",
      "execution_count": null,
      "metadata": {
        "trusted": true,
        "vscode": {
          "languageId": "r"
        }
      },
      "outputs": [],
      "source": [
        "#ls(\"package:M348\")\n",
        "data(ouStudents)\n",
        "attach(ouStudents)\n",
        "\n",
        "modelFit <- glm(modResult ~ contAssScore + bestPrevModScore + age, family=\"binomial\")\n"
      ]
    },
    {
      "cell_type": "code",
      "execution_count": null,
      "metadata": {
        "trusted": true,
        "vscode": {
          "languageId": "r"
        }
      },
      "outputs": [],
      "source": [
        "# Produce diagnostic plots for the fitted model\n",
        "\n",
        "# THIS CURRENTLY ERRORS\n",
        "glmResidPlot(modelFit)\n",
        "# THIS CURRENTLY ERRORS"
      ]
    },
    {
      "cell_type": "markdown",
      "metadata": {},
      "source": [
        "## `plm`\n",
        "\n",
        "Test loading in the package:"
      ]
    },
    {
      "cell_type": "code",
      "execution_count": null,
      "metadata": {
        "trusted": true,
        "vscode": {
          "languageId": "r"
        }
      },
      "outputs": [],
      "source": [
        "library(plm)"
      ]
    },
    {
      "cell_type": "code",
      "execution_count": null,
      "metadata": {
        "trusted": true,
        "vscode": {
          "languageId": "r"
        }
      },
      "outputs": [],
      "source": [
        "library(plm)\n",
        "data(\"EmplUK\", package=\"plm\")\n",
        "data(\"Grunfeld\", package=\"plm\")\n",
        "\n",
        "head(Grunfeld)\n"
      ]
    },
    {
      "cell_type": "code",
      "execution_count": null,
      "metadata": {
        "trusted": true,
        "vscode": {
          "languageId": "r"
        }
      },
      "outputs": [],
      "source": [
        "# Try a panel dataframe\n",
        "E <- pdata.frame(EmplUK, index=c(\"firm\",\"year\"), drop.index=TRUE, row.names=TRUE)\n",
        "head(E)"
      ]
    },
    {
      "cell_type": "markdown",
      "metadata": {},
      "source": [
        "## `urca` package\n",
        "\n",
        "Test loading package in:"
      ]
    },
    {
      "cell_type": "code",
      "execution_count": null,
      "metadata": {
        "trusted": true,
        "vscode": {
          "languageId": "r"
        }
      },
      "outputs": [],
      "source": [
        "library(urca)"
      ]
    },
    {
      "cell_type": "code",
      "execution_count": null,
      "metadata": {
        "trusted": true,
        "vscode": {
          "languageId": "r"
        }
      },
      "outputs": [],
      "source": [
        "# Test a function loaded from urca\n",
        "set.seed(123)\n",
        "time_series <- cumsum(rnorm(100))  # Random walk\n",
        "\n",
        "# Step 3: Perform the Augmented Dickey-Fuller (ADF) test\n",
        "adf_test <- ur.df(time_series, type = \"drift\", lags = 2)\n",
        "\n",
        "# Step 4: View the test results\n",
        "summary(adf_test)\n"
      ]
    },
    {
      "cell_type": "markdown",
      "metadata": {},
      "source": [
        "## `nlme` package\n",
        "\n",
        "Load package:"
      ]
    },
    {
      "cell_type": "code",
      "execution_count": null,
      "metadata": {
        "trusted": true,
        "vscode": {
          "languageId": "r"
        }
      },
      "outputs": [],
      "source": [
        "library(nlme)"
      ]
    },
    {
      "cell_type": "markdown",
      "metadata": {},
      "source": [
        "The following code cell should generate a graphical chart that is is rendered as part of the cell output."
      ]
    },
    {
      "cell_type": "code",
      "execution_count": null,
      "metadata": {
        "trusted": true,
        "vscode": {
          "languageId": "r"
        }
      },
      "outputs": [],
      "source": [
        "library(nlme)\n",
        "\n",
        "# Load the built-in 'Orthodont' dataset\n",
        "data(\"Orthodont\")\n",
        "\n",
        "# Fit a linear mixed-effects model using the lme() function\n",
        "# Response variable: distance (the response is dental measurement)\n",
        "# Fixed effect: age (predictor)\n",
        "# Random effect: intercept for each Subject\n",
        "lme_model <- lme(distance ~ age, random = ~ 1 | Subject, data = Orthodont)\n",
        "\n",
        "# Plot residuals to assess the model fit\n",
        "plot(lme_model)"
      ]
    },
    {
      "cell_type": "markdown",
      "metadata": {
        "trusted": true,
        "vscode": {
          "languageId": "r"
        }
      },
      "source": [
        "## Loading Data Files\n",
        "\n",
        "Files can be loaded in from a variety of locations, including browser storage.\n",
        "\n",
        "For the desktop run installation, files can also be read from the shared `M348-24J` directory in the user's home directory on the host computer."
      ]
    },
    {
      "cell_type": "code",
      "execution_count": null,
      "metadata": {
        "vscode": {
          "languageId": "r"
        }
      },
      "outputs": [],
      "source": [
        "# Test loading from browser storage\n",
        "data <- read.csv(\"tokyo2020medals.csv\")\n",
        "data"
      ]
    },
    {
      "cell_type": "code",
      "execution_count": null,
      "metadata": {
        "vscode": {
          "languageId": "r"
        }
      },
      "outputs": [],
      "source": [
        "# Test loading from shared directory (desktop run installation only)\n",
        "# Ensure that a simple CSV doc is available as: USERHOME_DIRECTORY/M348-24J/jl_distro_data_test.csv\n",
        "data <- read.csv(\"jl_distro_data_test.csv\")\n",
        "data"
      ]
    }
  ],
  "metadata": {
    "kernelspec": {
      "display_name": "R (webR)",
      "language": "R",
      "name": "webR"
    },
    "language_info": {
      "file_extension": ".R",
      "mimetype": "text/x-rsrc",
      "name": "R",
      "version": "4.3.3"
    }
  },
  "nbformat": 4,
  "nbformat_minor": 4
}
