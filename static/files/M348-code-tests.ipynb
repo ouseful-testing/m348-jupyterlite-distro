{
  "metadata": {
    "kernelspec": {
      "display_name": "R (webR)",
      "language": "R",
      "name": "webR"
    },
    "language_info": {
      "file_extension": ".R",
      "mimetype": "text/x-rsrc",
      "name": "R",
      "version": "4.3.3"
    }
  },
  "nbformat_minor": 4,
  "nbformat": 4,
  "cells": [
    {
      "cell_type": "markdown",
      "source": "# M348 Code tests\n\nNotebook to test package loads and simple functionality.\n\nWhen the notebook has loaded, wait for the kernel indicator (top right on the notebook toolbar) to show an empty circle (○) and indicate the `R (webR)` kernel. *If the kernel name shows as `Pyodide`, click on that kernel name and select `R (webR)`.*\n\nWhen the kernel is ready, run cells one at a time by clicking in the code cell below and run it either by `shift-Return` or clicking the play button (⏵) in the notebook toolbar. (Alternatively, run all cells from the *Run* menu, option *Run All Cells*.)\n\nKeep running cells till you get to the end (you can also \"run\" over the markdown cells; each run cell should move the selection onto the next cell).\n\nIf each cell indicator to the left of the cell goes green, that is success. If the cell indicator to the left goes pink, there was an error.",
      "metadata": {}
    },
    {
      "cell_type": "code",
      "source": "# If you are using a port number other than the default 8348\n# uncomment the following line (delete the leading #)\n# and set the port number to the port you are using\n# and then run the cell\n#PORTNUMBER <- 8348",
      "metadata": {
        "trusted": true
      },
      "outputs": [],
      "execution_count": null
    },
    {
      "cell_type": "markdown",
      "source": "## Package M348\n\nThe core package used by many of the M348 notebooks. This package includes several functions and data packages used in the module. Loading the package also loads several utilities that help ensure that *all* R notebooks function correctly in the JupyterLite environment.",
      "metadata": {}
    },
    {
      "cell_type": "code",
      "source": "# Load the package\nlibrary(M348)",
      "metadata": {
        "trusted": true
      },
      "outputs": [],
      "execution_count": null
    },
    {
      "cell_type": "code",
      "source": "# Data package load from M348 test\ndata('childMeasurements')",
      "metadata": {
        "trusted": true,
        "vscode": {
          "languageId": "r"
        }
      },
      "outputs": [],
      "execution_count": null
    },
    {
      "cell_type": "code",
      "source": "# Data view - should show six rows of data\nhead(childMeasurements)",
      "metadata": {
        "trusted": true,
        "vscode": {
          "languageId": "r"
        }
      },
      "outputs": [],
      "execution_count": null
    },
    {
      "cell_type": "code",
      "source": "# Load some more data\ndata(ouStudents)\n\n# Fit a model to these data and show a summary of the results\nmodelFit <- glm(modResult ~ contAssScore + bestPrevModScore + age, family=\"binomial\", data = ouStudents)\nsummary(modelFit)\n",
      "metadata": {
        "trusted": true,
        "vscode": {
          "languageId": "r"
        }
      },
      "outputs": [],
      "execution_count": null
    },
    {
      "cell_type": "code",
      "source": "# Produce diagnostic plots for the fitted model\nglmResidPlot(modelFit)",
      "metadata": {
        "trusted": true,
        "vscode": {
          "languageId": "r"
        }
      },
      "outputs": [],
      "execution_count": null
    },
    {
      "cell_type": "markdown",
      "source": "## `plm`\n\nTest loading in the package:",
      "metadata": {}
    },
    {
      "cell_type": "code",
      "source": "library(plm)",
      "metadata": {
        "trusted": true,
        "vscode": {
          "languageId": "r"
        }
      },
      "outputs": [],
      "execution_count": null
    },
    {
      "cell_type": "code",
      "source": "library(plm)\ndata(\"EmplUK\", package=\"plm\")\ndata(\"Grunfeld\", package=\"plm\")\n\nhead(Grunfeld)\n",
      "metadata": {
        "trusted": true,
        "vscode": {
          "languageId": "r"
        }
      },
      "outputs": [],
      "execution_count": null
    },
    {
      "cell_type": "code",
      "source": "# Try a panel dataframe\nE <- pdata.frame(EmplUK, index=c(\"firm\",\"year\"), drop.index=TRUE, row.names=TRUE)\nhead(E)",
      "metadata": {
        "trusted": true,
        "vscode": {
          "languageId": "r"
        }
      },
      "outputs": [],
      "execution_count": null
    },
    {
      "cell_type": "markdown",
      "source": "## `urca` package\n\nTest loading package in:",
      "metadata": {}
    },
    {
      "cell_type": "code",
      "source": "library(urca)",
      "metadata": {
        "trusted": true,
        "vscode": {
          "languageId": "r"
        }
      },
      "outputs": [],
      "execution_count": null
    },
    {
      "cell_type": "code",
      "source": "# Test a function loaded from urca\nset.seed(123)\ntime_series <- cumsum(rnorm(100))  # Random walk\n\n# Step 3: Perform the Augmented Dickey-Fuller (ADF) test\nadf_test <- ur.df(time_series, type = \"drift\", lags = 2)\n\n# Step 4: View the test results\nsummary(adf_test)\n",
      "metadata": {
        "trusted": true,
        "vscode": {
          "languageId": "r"
        }
      },
      "outputs": [],
      "execution_count": null
    },
    {
      "cell_type": "markdown",
      "source": "## `nlme` package\n\nLoad package:",
      "metadata": {}
    },
    {
      "cell_type": "code",
      "source": "library(nlme)",
      "metadata": {
        "trusted": true,
        "vscode": {
          "languageId": "r"
        }
      },
      "outputs": [],
      "execution_count": null
    },
    {
      "cell_type": "markdown",
      "source": "The following code cell should generate a graphical chart that is is rendered as part of the cell output.",
      "metadata": {}
    },
    {
      "cell_type": "code",
      "source": "library(nlme)\n\n# Load the built-in 'Orthodont' dataset\ndata(\"Orthodont\")\n\n# Fit a linear mixed-effects model using the lme() function\n# Response variable: distance (the response is dental measurement)\n# Fixed effect: age (predictor)\n# Random effect: intercept for each Subject\nlme_model <- lme(distance ~ age, random = ~ 1 | Subject, data = Orthodont)\n\n# Plot residuals to assess the model fit\nplot(lme_model)",
      "metadata": {
        "trusted": true,
        "vscode": {
          "languageId": "r"
        }
      },
      "outputs": [],
      "execution_count": null
    },
    {
      "cell_type": "markdown",
      "source": "## Loading Data Files\n\nFiles can be loaded in from a variety of locations, including browser storage.\n\nFor the desktop run installation, files can also be read from the shared `M348-24J` directory in the user's home directory on the host computer.",
      "metadata": {
        "trusted": true,
        "vscode": {
          "languageId": "r"
        }
      }
    },
    {
      "cell_type": "code",
      "source": "# Test loading from browser storage\ndata <- read.csv(\"tokyo2020medals.csv\")\nhead(data)",
      "metadata": {
        "vscode": {
          "languageId": "r"
        },
        "trusted": true
      },
      "outputs": [],
      "execution_count": null
    },
    {
      "cell_type": "code",
      "source": "# Test loading from shared directory (desktop run installation only)\n# Ensure that a simple CSV doc is available as: USERHOME_DIRECTORY/M348-24J/jl_distro_data_test.csv\ndata <- read.csv(\"jl_distro_data_test.csv\")\ndata",
      "metadata": {
        "vscode": {
          "languageId": "r"
        },
        "trusted": true
      },
      "outputs": [],
      "execution_count": null
    }
  ]
}