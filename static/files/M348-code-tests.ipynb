{
  "metadata": {
    "kernelspec": {
      "name": "webR",
      "display_name": "R (webR)",
      "language": "R"
    },
    "language_info": {
      "name": "R",
      "version": "4.3.3",
      "mimetype": "text/x-rsrc",
      "file_extension": ".R"
    }
  },
  "nbformat_minor": 4,
  "nbformat": 4,
  "cells": [
    {
      "cell_type": "markdown",
      "source": "# M348 Code tests\n\nNotebook to test package loads and simple functionality.\n\nWhen the notebook has loaded, wait for the kernel indicator (top right on the notebook toolbar) to show an empty circle (○) and indicate the `R (webR)` kernel. (If it shows `Pyodide`, clcik on it and select `R,(webR)` *(I will remove pyodide in the final release).\n\nWhen the kernel is ready, click in the code cell below and run it either by `shift-Return` or clicking the play button (⏵) in the notebook toolbar.\n\nKeep running cells till you get to the end (you can also \"run\" over the markdown cells; each run cell should move the selection onto the next cell.\n\nIf each cell indicator to the left of the cell goes green, that is success. If the cell indicator to the left goes pink, there was an error.",
      "metadata": {}
    },
    {
      "cell_type": "markdown",
      "source": "## Reading data from a bundled CSV file\n\nWe can load data in from a file bundled into the distribution as:",
      "metadata": {}
    },
    {
      "cell_type": "code",
      "source": "# Inspect the URL of this site for the actual port number\n# For example, in http://localhost:8888/ the port number is: 8888\n# localhost and 1287.0.0.1 are equivalent domains\nPORTNUMBER = 51550 \n\n# Using the example port 8888, we can explicitly write\n#data = read.csv(\"http://localhost:8888/files/tokyo2020medals.csv\")\n\nfile_url = function (filename) {\n                PORTNUMBER <- if (exists(\"PORTNUMBER\")) PORTNUMBER else 8348\n                paste0(\"http://localhost:\",PORTNUMBER,\"/files/\",filename)\n    }\n\ndata = read.csv(file_url(\"tokyo2020medals.csv\"))\n\nhead(data)",
      "metadata": {
        "trusted": true
      },
      "outputs": [],
      "execution_count": null
    },
    {
      "cell_type": "code",
      "source": "shared_url = function (filename) {\n    PORTNUMBER <- if (exists(\"PORTNUMBER\")) PORTNUMBER else 8348\n    paste0(\"http://localhost:\",PORTNUMBER,\"/share/\",filename)\n}\n\n# The server also serves files from the \"M348-24J\"\n# in the user's home directory.\n\n#For example, if I have a data file \"testdata.csv\"\n# in a folder called \"data\"\n# inside a folder called EMA\n# inside my \"M348-24J\" folder in my home directory\n# I can set a path to it inside the \"M348-24J\" folder as:\nDESKTOP_HOMEDIR_DATA_FILE = \"EMA/data/testdata.csv\"\n\n# Now read the data file in:\nshared_data = read.csv(shared_url(DESKTOP_HOMEDIR_DATA_FILE))\n\nhead(shared_data)",
      "metadata": {
        "trusted": true
      },
      "outputs": [],
      "execution_count": null
    },
    {
      "cell_type": "markdown",
      "source": "## Package M348\n\nThe core package.",
      "metadata": {}
    },
    {
      "cell_type": "code",
      "source": "# Load test\nlibrary(M348)",
      "metadata": {
        "trusted": true
      },
      "outputs": [],
      "execution_count": null
    },
    {
      "cell_type": "code",
      "source": "# Data package load from M348 test\ndata('childMeasurements')",
      "metadata": {
        "trusted": true
      },
      "outputs": [],
      "execution_count": null
    },
    {
      "cell_type": "code",
      "source": "# Data view\n\n# Make the vectors in the data frame obesity directly accessible to R\nattach(childMeasurements)\n# Check the data frame has loaded OK\nhead(childMeasurements)",
      "metadata": {
        "trusted": true
      },
      "outputs": [],
      "execution_count": null
    },
    {
      "cell_type": "code",
      "source": "#ls(\"package:M348\")\ndata(ouStudents)\nattach(ouStudents)\n\nmodelFit <- glm(modResult ~ contAssScore + bestPrevModScore + age, family=\"binomial\")\n",
      "metadata": {
        "trusted": true
      },
      "outputs": [],
      "execution_count": null
    },
    {
      "cell_type": "code",
      "source": "# Produce diagnostic plots for the fitted model\n\n# THIS CURRENTLY ERRORS\nglmResidPlot(modelFit)\n# THIS CURRENTLY ERRORS",
      "metadata": {
        "trusted": true
      },
      "outputs": [],
      "execution_count": null
    },
    {
      "cell_type": "markdown",
      "source": "## `plm`\n\nTest loading in the package:",
      "metadata": {}
    },
    {
      "cell_type": "code",
      "source": "library(plm)",
      "metadata": {
        "trusted": true
      },
      "outputs": [],
      "execution_count": null
    },
    {
      "cell_type": "code",
      "source": "library(plm)\ndata(\"EmplUK\", package=\"plm\")\ndata(\"Grunfeld\", package=\"plm\")\n\nhead(Grunfeld)\n",
      "metadata": {
        "trusted": true
      },
      "outputs": [],
      "execution_count": null
    },
    {
      "cell_type": "code",
      "source": "# Try a panel dataframe\nE <- pdata.frame(EmplUK, index=c(\"firm\",\"year\"), drop.index=TRUE, row.names=TRUE)\nhead(E)",
      "metadata": {
        "trusted": true
      },
      "outputs": [],
      "execution_count": null
    },
    {
      "cell_type": "markdown",
      "source": "## `urca` package\n\nTest loading package in:",
      "metadata": {}
    },
    {
      "cell_type": "code",
      "source": "library(urca)",
      "metadata": {
        "trusted": true
      },
      "outputs": [],
      "execution_count": null
    },
    {
      "cell_type": "code",
      "source": "# Test a function loaded from urca\nset.seed(123)\ntime_series <- cumsum(rnorm(100))  # Random walk\n\n# Step 3: Perform the Augmented Dickey-Fuller (ADF) test\nadf_test <- ur.df(time_series, type = \"drift\", lags = 2)\n\n# Step 4: View the test results\nsummary(adf_test)\n",
      "metadata": {
        "trusted": true
      },
      "outputs": [],
      "execution_count": null
    },
    {
      "cell_type": "markdown",
      "source": "## `nlme` package\n\nLoad package:",
      "metadata": {}
    },
    {
      "cell_type": "code",
      "source": "library(nlme)",
      "metadata": {
        "trusted": true
      },
      "outputs": [],
      "execution_count": null
    },
    {
      "cell_type": "code",
      "source": "library(nlme)\n\n# Load the built-in 'Orthodont' dataset\ndata(\"Orthodont\")\n\n# Fit a linear mixed-effects model using the lme() function\n# Response variable: distance (the response is dental measurement)\n# Fixed effect: age (predictor)\n# Random effect: intercept for each Subject\nlme_model <- lme(distance ~ age, random = ~ 1 | Subject, data = Orthodont)\n\n# Plot residuals to assess the model fit\nplot(lme_model)",
      "metadata": {
        "trusted": true
      },
      "outputs": [],
      "execution_count": null
    },
    {
      "cell_type": "code",
      "source": "",
      "metadata": {
        "trusted": true
      },
      "outputs": [],
      "execution_count": null
    }
  ]
}